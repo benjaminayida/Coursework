{
  "cells": [
    {
      "cell_type": "code",
      "execution_count": 1,
      "id": "c6f0b7af",
      "metadata": {
        "id": "c6f0b7af"
      },
      "outputs": [],
      "source": [
        "import numpy as np\n",
        "from scipy.linalg import block_diag\n",
        "import matplotlib.pyplot as plt\n",
        "from numba import jit, prange\n",
        "from datetime import datetime"
      ]
    },
    {
      "cell_type": "code",
      "execution_count": 2,
      "id": "acab447e",
      "metadata": {
        "id": "acab447e"
      },
      "outputs": [],
      "source": [
        "def getsystem(N):\n",
        "    h = 1./(N+1.)\n",
        "    C = 4*np.eye(N) + np.diag(-np.ones(N-1),k=1) + 1*np.diag(-np.ones(N-1),k=-1)\n",
        "    A = np.diag(-np.ones(N*N-N),k=-N) + np.diag(-np.ones(N*N-N),k=N) + block_diag(*([C]*N))\n",
        "    b = np.full(N*N,h**2.0)\n",
        "    return A"
      ]
    },
    {
      "cell_type": "code",
      "source": [
        "getsystem(2)"
      ],
      "metadata": {
        "colab": {
          "base_uri": "https://localhost:8080/"
        },
        "id": "pdVCenljyNr0",
        "outputId": "9243b1da-87cb-42cd-c4b8-5bc02467c4af"
      },
      "id": "pdVCenljyNr0",
      "execution_count": 3,
      "outputs": [
        {
          "output_type": "execute_result",
          "data": {
            "text/plain": [
              "array([[ 4., -1., -1.,  0.],\n",
              "       [-1.,  4.,  0., -1.],\n",
              "       [-1.,  0.,  4., -1.],\n",
              "       [ 0., -1., -1.,  4.]])"
            ]
          },
          "metadata": {},
          "execution_count": 3
        }
      ]
    },
    {
      "cell_type": "code",
      "source": [
        "def compute(a, b, x, y):\n",
        "    A = ((1+a)*b*(x+y) -a)\n",
        "    B = ((1+a)*b*(x-y) -a)\n",
        "    return A,B"
      ],
      "metadata": {
        "id": "32OhxkMzVBFn"
      },
      "id": "32OhxkMzVBFn",
      "execution_count": 4,
      "outputs": []
    },
    {
      "cell_type": "code",
      "execution_count": 5,
      "id": "75e2d146",
      "metadata": {
        "id": "75e2d146"
      },
      "outputs": [],
      "source": [
        "def system(N):\n",
        "    A =1\n",
        "    B=1\n",
        "    a=1\n",
        "    h = 1./(N+1.)\n",
        "    C = (4+h**2*a)*np.eye(N) + (-1+(h*B/2))*np.diag(np.ones(N-1),k=1) + (-1*(h*A/2))*np.diag(-np.ones(N-1),k=-1)\n",
        "    #M = np.diag(-np.ones(N*N-N),k=-N) + np.diag(-np.ones(N*N-N),k=N) + block_diag(*([C]*N))\n",
        "    M = np.diag(-np.ones(N*N-N), k=-N) + np.diag(-np.ones(N*N-N), k=N) + block_diag(*([C]*N))\n",
        "    b = np.full(N*N,2)\n",
        "    x0 = np.full(N*N,0.0)\n",
        "    return M,b,x0"
      ]
    },
    {
      "cell_type": "code",
      "execution_count": 6,
      "id": "d0b51d4c",
      "metadata": {
        "id": "d0b51d4c"
      },
      "outputs": [],
      "source": [
        "import numpy as np\n",
        "import matplotlib.pyplot as plt\n",
        "import time\n",
        "#@jit(parallel=True)\n",
        "def jacobi(A, b, x0, max_iter=100, tol=1e-6):\n",
        "    \"\"\"\n",
        "    Jacobi method for solving Ax=b.\n",
        "    A: coefficient matrix\n",
        "    b: constant vector\n",
        "    x0: initial guess\n",
        "    max_iter: maximum number of iterations (default 100)\n",
        "    tol: tolerance for convergence (default 1e-6)\n",
        "    \"\"\"\n",
        "    n = len(A)\n",
        "    x = x0.copy()\n",
        "    res = []\n",
        "    #start_time = datetime.now()\n",
        "    for k in range(max_iter):\n",
        "        x_new = np.zeros(n)\n",
        "        for i in range(n):\n",
        "            s = 0.0\n",
        "            for j in prange(n):\n",
        "                if j != i:\n",
        "                    s += A[i,j] * x[j]\n",
        "            x_new[i] = (b[i] - s) / A[i,i]\n",
        "        r = np.linalg.norm(A @ x - b)\n",
        "        res.append(r)\n",
        "        if r < tol:\n",
        "            break\n",
        "        x = x_new\n",
        "    plt.semilogy(res)\n",
        "    plt.xlabel('Iteration')\n",
        "    plt.ylabel('Residual')\n",
        "    plt.show()\n",
        "    #end_time = datetime.now()\n",
        "    #elapsed_time = end_time - start_time\n",
        "    #print(f\"The for loop took {elapsed_time.total_seconds()} seconds to execute.\")\n",
        "    return x, res\n",
        "\n",
        "#start_time = time.time()\n",
        "\n",
        "# your for loop here\n",
        "\n",
        "#end_time = time.time()\n",
        "#elapsed_time = end_time - start_time\n",
        "\n",
        "#print(f\"The for loop took {elapsed_time} seconds to execute.\")"
      ]
    },
    {
      "cell_type": "code",
      "execution_count": 27,
      "id": "ed4b9255",
      "metadata": {
        "id": "ed4b9255"
      },
      "outputs": [],
      "source": [
        "A,b,x0 =system(20)"
      ]
    },
    {
      "cell_type": "code",
      "execution_count": 9,
      "id": "464fd243",
      "metadata": {
        "colab": {
          "base_uri": "https://localhost:8080/",
          "height": 466
        },
        "id": "464fd243",
        "outputId": "95d25742-a416-4512-bc46-6cacad3048a5"
      },
      "outputs": [
        {
          "output_type": "display_data",
          "data": {
            "text/plain": [
              "<Figure size 640x480 with 1 Axes>"
            ],
            "image/png": "[encoded data removed]"
          },
          "metadata": {}
        },
        {
          "output_type": "stream",
          "name": "stdout",
          "text": [
            "The for loop took 5.902334928512573 seconds to execute.\n"
          ]
        }
      ],
      "source": [
        "\n",
        "start_time = time.time()\n",
        "\n",
        "x, res = jacobi(A, b, x0)\n",
        "\n",
        "end_time = time.time()\n",
        "elapsed_time = end_time - start_time\n",
        "\n",
        "print(f\"The for loop took {elapsed_time} seconds to execute.\")"
      ]
    },
    {
      "cell_type": "code",
      "source": [
        "import numpy as np\n",
        "import matplotlib.pyplot as plt\n",
        "import time\n",
        "@jit(parallel=True)\n",
        "def jacobi(A, b, x0, max_iter=100, tol=1e-6):\n",
        "    \"\"\"\n",
        "    Jacobi method for solving Ax=b.\n",
        "    A: coefficient matrix\n",
        "    b: constant vector\n",
        "    x0: initial guess\n",
        "    max_iter: maximum number of iterations (default 100)\n",
        "    tol: tolerance for convergence (default 1e-6)\n",
        "    \"\"\"\n",
        "    n = len(A)\n",
        "    x = x0.copy()\n",
        "    res = []\n",
        "    #start_time = datetime.now()\n",
        "    for k in range(max_iter):\n",
        "        x_new = np.zeros(n)\n",
        "        for i in range(n):\n",
        "            s = 0.0\n",
        "            for j in prange(n):\n",
        "                if j != i:\n",
        "                    s += A[i,j] * x[j]\n",
        "            x_new[i] = (b[i] - s) / A[i,i]\n",
        "        r = np.linalg.norm(A @ x - b)\n",
        "        res.append(r)\n",
        "        if r < tol:\n",
        "            break\n",
        "        x = x_new\n",
        "    plt.semilogy(res)\n",
        "    plt.xlabel('Iteration')\n",
        "    plt.ylabel('Residual')\n",
        "    plt.show()\n",
        "    #end_time = datetime.now()\n",
        "    #elapsed_time = end_time - start_time\n",
        "    #print(f\"The for loop took {elapsed_time.total_seconds()} seconds to execute.\")\n",
        "    return x, res"
      ],
      "metadata": {
        "id": "586Ii8-TIMvv"
      },
      "id": "586Ii8-TIMvv",
      "execution_count": 10,
      "outputs": []
    },
    {
      "cell_type": "code",
      "source": [
        "import numba as nb\n",
        "import numpy as np\n",
        "import matplotlib.pyplot as plt\n",
        "\n",
        "@nb.njit(parallel=True)\n",
        "def jacobi_numba(A, b, x0, max_iter=100, tol=1e-6):\n",
        "    \"\"\"\n",
        "    Jacobi method for solving Ax=b.\n",
        "    A: coefficient matrix\n",
        "    b: constant vector\n",
        "    x0: initial guess\n",
        "    max_iter: maximum number of iterations (default 100)\n",
        "    tol: tolerance for convergence (default 1e-6)\n",
        "    \"\"\"\n",
        "    n = len(A)\n",
        "    x = x0.copy()\n",
        "    res = []\n",
        "    for k in range(max_iter):\n",
        "        x_new = np.zeros(n)\n",
        "        for i in nb.prange(n):\n",
        "            s = 0\n",
        "            for j in range(n):\n",
        "                if j != i:\n",
        "                    s += A[i,j] * x[j]\n",
        "            x_new[i] = (b[i] - s) / A[i,i]\n",
        "        r = np.linalg.norm(A @ x - b)\n",
        "        res.append(r)\n",
        "        if r < tol:\n",
        "            break\n",
        "        x = x_new\n",
        "    return x, res\n"
      ],
      "metadata": {
        "id": "hz8QkKBBITid"
      },
      "id": "hz8QkKBBITid",
      "execution_count": 11,
      "outputs": []
    },
    {
      "cell_type": "code",
      "source": [
        "start_time = time.time()\n",
        "\n",
        "x,res = jacobi_numba(A, b, x0)\n",
        "\n",
        "end_time = time.time()\n",
        "elapsed_time = end_time - start_time\n",
        "print(f\"The for loop took {elapsed_time} seconds to execute.\")\n",
        "plt.loglog(res)\n",
        "plt.xlabel('Iteration')\n",
        "plt.ylabel('Residual')\n",
        "plt.show()"
      ],
      "metadata": {
        "colab": {
          "base_uri": "https://localhost:8080/",
          "height": 471
        },
        "id": "If5169pKNR_A",
        "outputId": "1cbf81c2-bf81-44ec-ffe5-5e4bf0b5e6ab"
      },
      "id": "If5169pKNR_A",
      "execution_count": 12,
      "outputs": [
        {
          "output_type": "stream",
          "name": "stdout",
          "text": [
            "The for loop took 2.3688764572143555 seconds to execute.\n"
          ]
        },
        {
          "output_type": "display_data",
          "data": {
            "text/plain": [
              "<Figure size 640x480 with 1 Axes>"
            ],
            "image/png": "[encoded data removed]"
          },
          "metadata": {}
        }
      ]
    },
    {
      "cell_type": "code",
      "source": [
        "import numba as nb\n",
        "import numpy as np\n",
        "\n",
        "@nb.njit(parallel=True, fastmath=True, nopython=True)\n",
        "def jacob(A, b, x0, tol=1e-8, max_iters=1000):\n",
        "    n = len(A)\n",
        "    x = np.copy(x0)\n",
        "    iters = 0\n",
        "    while iters < max_iters:\n",
        "        x_old = np.copy(x)\n",
        "        for i in nb.prange(n):\n",
        "            s = 0.0\n",
        "            for j in range(n):\n",
        "                if i != j:\n",
        "                    s += A[i,j] * x_old[j]\n",
        "            x[i] = (b[i] - s) / A[i,i]\n",
        "        if np.linalg.norm(x - x_old) < tol:\n",
        "            break\n",
        "        iters += 1\n",
        "    return x, iters\n"
      ],
      "metadata": {
        "id": "lwdtuTJaNuwA",
        "colab": {
          "base_uri": "https://localhost:8080/"
        },
        "outputId": "177e7911-dd92-4bcc-bb9b-9aaa2f0b28ff"
      },
      "id": "lwdtuTJaNuwA",
      "execution_count": 13,
      "outputs": [
        {
          "output_type": "stream",
          "name": "stderr",
          "text": [
            "/usr/local/lib/python3.10/dist-packages/numba/core/decorators.py:253: RuntimeWarning: nopython is set for njit and is ignored\n",
            "  warnings.warn('nopython is set for njit and is ignored', RuntimeWarning)\n"
          ]
        }
      ]
    },
    {
      "cell_type": "code",
      "source": [
        "from numba import njit, prange\n",
        "import numpy as np\n",
        "\n",
        "@njit(parallel=True)\n",
        "def prange_wrong_result(x):\n",
        "    n = x.shape[0]\n",
        "    y = np.zeros(4)\n",
        "    for i in prange(n):\n",
        "        # accumulating into the same element of `y` from different\n",
        "        # parallel iterations of the loop results in a race condition\n",
        "        y[i % 4] += x[i]\n",
        "\n",
        "    return y"
      ],
      "metadata": {
        "id": "OobZ-TnrPauX"
      },
      "id": "OobZ-TnrPauX",
      "execution_count": 14,
      "outputs": []
    },
    {
      "cell_type": "code",
      "source": [
        "x= np.linspace(1,5)\n",
        "prange_wrong_result(x)"
      ],
      "metadata": {
        "colab": {
          "base_uri": "https://localhost:8080/"
        },
        "id": "wjfaaSDSZA_a",
        "outputId": "ff8473ea-2624-4758-ed2d-5ebd42a74584"
      },
      "id": "wjfaaSDSZA_a",
      "execution_count": 15,
      "outputs": [
        {
          "output_type": "execute_result",
          "data": {
            "text/plain": [
              "array([35.18367347, 33.24489796, 30.24489796, 36.48979592])"
            ]
          },
          "metadata": {},
          "execution_count": 15
        }
      ]
    },
    {
      "cell_type": "code",
      "source": [
        "\n"
      ],
      "metadata": {
        "id": "PnR-UjcRhZ7z"
      },
      "id": "PnR-UjcRhZ7z",
      "execution_count": 15,
      "outputs": []
    },
    {
      "cell_type": "code",
      "source": [
        "A,b,x0 =system(20)"
      ],
      "metadata": {
        "id": "43Xwb02MbtFr"
      },
      "id": "43Xwb02MbtFr",
      "execution_count": 17,
      "outputs": []
    },
    {
      "cell_type": "code",
      "source": [
        "start_time = time.time()\n",
        "\n",
        "x, res =jacob(A, b, x0)\n",
        "\n",
        "end_time = time.time()\n",
        "elapsed_time = end_time - start_time\n",
        "\n",
        "print(f\"The for loop took {elapsed_time} seconds to execute.\")"
      ],
      "metadata": {
        "colab": {
          "base_uri": "https://localhost:8080/"
        },
        "id": "AVRi_Kbrb59z",
        "outputId": "3967c61d-3267-45a6-c045-fec54d73c10b"
      },
      "id": "AVRi_Kbrb59z",
      "execution_count": 18,
      "outputs": [
        {
          "output_type": "stream",
          "name": "stdout",
          "text": [
            "The for loop took 1.0944483280181885 seconds to execute.\n"
          ]
        }
      ]
    },
    {
      "cell_type": "code",
      "source": [
        "def system(N):\n",
        "    A = 1\n",
        "    B = 1\n",
        "    a = 1\n",
        "    h = 1. / (N + 1.)\n",
        "    C = (4 + h ** 2 * a) * np.eye(N) + (-1 + (h * B / 2)) * np.diag(np.ones(N - 1), k=1) + (-1 * (h * A / 2)) * np.diag(-np.ones(N - 1), k=-1)\n",
        "    M = np.diag(-np.ones(N * N - N), k=-N) + np.diag(-np.ones(N * N - N), k=N) + block_diag(*([C] * N))\n",
        "    b = np.full(N * N, 2)\n",
        "    x0 = np.full(N * N, 0.0)\n",
        "    return M, b, x0"
      ],
      "metadata": {
        "id": "SsuAz-RWoR2x"
      },
      "id": "SsuAz-RWoR2x",
      "execution_count": 19,
      "outputs": []
    },
    {
      "cell_type": "code",
      "source": [
        "M, b, x0 = system(10)"
      ],
      "metadata": {
        "id": "aJ075NO1oh11"
      },
      "id": "aJ075NO1oh11",
      "execution_count": 20,
      "outputs": []
    },
    {
      "cell_type": "code",
      "source": [
        "import numpy as np\n",
        "from numba import jit\n",
        "from scipy.linalg import block_diag\n",
        "import matplotlib.pyplot as plt\n",
        "\n",
        "\n",
        "@jit(nopython=True)\n",
        "def jacob(A, b, x0, max_iter=100, tol=1e-6):\n",
        "    \"\"\"\n",
        "    Jacobi method for solving Ax=b.\n",
        "    A: coefficient matrix\n",
        "    b: constant vector\n",
        "    x0: initial guess\n",
        "    max_iter: maximum number of iterations (default 100)\n",
        "    tol: tolerance for convergence (default 1e-6)\n",
        "    \"\"\"\n",
        "    n = len(A)\n",
        "    x = x0.copy()\n",
        "    res = np.zeros(max_iter)\n",
        "    for k in range(max_iter):\n",
        "        x_new = np.zeros(n)\n",
        "        for i in range(n):\n",
        "            s = 0.0\n",
        "            for j in range(n):\n",
        "                if j != i:\n",
        "                    s += A[i,j] * x[j]\n",
        "            x_new[i] = (b[i] - s) / A[i,i]\n",
        "        r = np.linalg.norm(A @ x - b)\n",
        "        res[k] = r\n",
        "        if r < tol:\n",
        "            break\n",
        "        x = x_new\n",
        "    return x, res[:k+1]\n"
      ],
      "metadata": {
        "id": "hh6bxCgpb65j"
      },
      "id": "hh6bxCgpb65j",
      "execution_count": 21,
      "outputs": []
    },
    {
      "cell_type": "code",
      "source": [
        "x, res = jacob(M, b, x0)\n",
        "plt.semilogy(res)\n",
        "plt.xlabel('Iteration')\n",
        "plt.ylabel('Residual')\n",
        "plt.show()"
      ],
      "metadata": {
        "colab": {
          "base_uri": "https://localhost:8080/",
          "height": 279
        },
        "id": "4XWRLkKfoWhJ",
        "outputId": "97ca9209-18eb-4bb5-9018-c0632d8cf8b5"
      },
      "id": "4XWRLkKfoWhJ",
      "execution_count": null,
      "outputs": [
        {
          "output_type": "display_data",
          "data": {
            "text/plain": [
              "<Figure size 432x288 with 1 Axes>"
            ],
            "image/png": "[encoded data removed]"
          },
          "metadata": {
            "needs_background": "light"
          }
        }
      ]
    },
    {
      "cell_type": "code",
      "source": [],
      "metadata": {
        "id": "3-6gA1ugoJQf"
      },
      "id": "3-6gA1ugoJQf",
      "execution_count": null,
      "outputs": []
    },
    {
      "cell_type": "markdown",
      "source": [
        "### Serial Gauss-Seidel"
      ],
      "metadata": {
        "id": "_zfGr9bmncIV"
      },
      "id": "_zfGr9bmncIV"
    },
    {
      "cell_type": "code",
      "source": [
        "import numpy as np\n",
        "import numba as nb\n",
        "\n",
        "def gauss_seidel(A, b, x0, max_iter=100, tol=1e-6):\n",
        "    n = len(A)\n",
        "    x = x0.copy()\n",
        "    res = np.zeros(max_iter+1)\n",
        "    res[0] = np.linalg.norm(A @ x - b)\n",
        "    for k in range(max_iter):\n",
        "        for i in range(n):\n",
        "            s = b[i]\n",
        "            for j in range(n):\n",
        "                if j != i:\n",
        "                    s -= A[i,j] * x[j]\n",
        "            x[i] = s / A[i,i]\n",
        "        res[k+1] = np.linalg.norm(A @ x - b)\n",
        "        if res[k+1] < tol:\n",
        "            break\n",
        "    return x, res[:k+1]\n"
      ],
      "metadata": {
        "id": "-lRPSEYLiX1F"
      },
      "id": "-lRPSEYLiX1F",
      "execution_count": 22,
      "outputs": []
    },
    {
      "cell_type": "code",
      "source": [
        "A,b,x0 =system(20)"
      ],
      "metadata": {
        "id": "bDry8tGEWUiW"
      },
      "id": "bDry8tGEWUiW",
      "execution_count": 29,
      "outputs": []
    },
    {
      "cell_type": "code",
      "source": [
        "start_time = time.time()\n",
        "\n",
        "x,res = gauss_seidel(A, b, x0)\n",
        "\n",
        "end_time = time.time()\n",
        "elapsed_time = end_time - start_time\n",
        "print(f\"The for loop took {elapsed_time} seconds to execute.\")\n",
        "plt.loglog(res)\n",
        "plt.xlabel('Iteration')\n",
        "plt.ylabel('Residual')\n",
        "plt.show()"
      ],
      "metadata": {
        "colab": {
          "base_uri": "https://localhost:8080/",
          "height": 471
        },
        "id": "pjujOkhklEG9",
        "outputId": "865d299b-985a-4f0e-895e-309caa89c6d2"
      },
      "id": "pjujOkhklEG9",
      "execution_count": 30,
      "outputs": [
        {
          "output_type": "stream",
          "name": "stdout",
          "text": [
            "The for loop took 0.27608728408813477 seconds to execute.\n"
          ]
        },
        {
          "output_type": "display_data",
          "data": {
            "text/plain": [
              "<Figure size 640x480 with 1 Axes>"
            ],
            "image/png": "[encoded data removed]"
          },
          "metadata": {}
        }
      ]
    },
    {
      "cell_type": "markdown",
      "source": [
        "### Parallelized Gauss-Seidel"
      ],
      "metadata": {
        "id": "rFfwB8oAnY9B"
      },
      "id": "rFfwB8oAnY9B"
    },
    {
      "cell_type": "code",
      "source": [
        "import numpy as np\n",
        "import numba as nb\n",
        "\n",
        "@nb.njit(parallel=True)\n",
        "def gauss_seidel(A, b, x0, max_iter=100, tol=1e-6):\n",
        "    n = len(A)\n",
        "    x = x0.copy()\n",
        "    res = np.zeros(max_iter+1)\n",
        "    res[0] = np.linalg.norm(A @ x - b)\n",
        "    for k in nb.prange(max_iter):\n",
        "        for i in range(n):\n",
        "            s = b[i]\n",
        "            for j in nb.prange(n):\n",
        "                if j != i:\n",
        "                    s -= A[i,j] * x[j]\n",
        "            x[i] = s / A[i,i]\n",
        "        res[k+1] = np.linalg.norm(A @ x - b)\n",
        "        if res[k+1] < tol:\n",
        "            break\n",
        "    return x, res[:k+1]\n"
      ],
      "metadata": {
        "id": "0p-T9JiTllpl"
      },
      "id": "0p-T9JiTllpl",
      "execution_count": 31,
      "outputs": []
    },
    {
      "cell_type": "code",
      "source": [
        "start_time = time.time()\n",
        "\n",
        "x,res = gauss_seidel(A, b, x0)\n",
        "\n",
        "end_time = time.time()\n",
        "elapsed_time = end_time - start_time\n",
        "print(f\"The for loop took {elapsed_time} seconds to execute.\")\n",
        "plt.loglog(res)\n",
        "plt.xlabel('Iteration')\n",
        "plt.ylabel('Residual')\n",
        "plt.show()"
      ],
      "metadata": {
        "colab": {
          "base_uri": "https://localhost:8080/",
          "height": 471
        },
        "id": "9ZvS2KmzmTM6",
        "outputId": "74d02540-98ee-44dd-e957-9b033539278b"
      },
      "id": "9ZvS2KmzmTM6",
      "execution_count": 32,
      "outputs": [
        {
          "output_type": "stream",
          "name": "stdout",
          "text": [
            "The for loop took 1.6117677688598633 seconds to execute.\n"
          ]
        },
        {
          "output_type": "display_data",
          "data": {
            "text/plain": [
              "<Figure size 640x480 with 1 Axes>"
            ],
            "image/png": "[encoded data removed]"
          },
          "metadata": {}
        }
      ]
    },
    {
      "cell_type": "code",
      "source": [],
      "metadata": {
        "id": "CrH6Sb_jmVs1"
      },
      "id": "CrH6Sb_jmVs1",
      "execution_count": null,
      "outputs": []
    }
  ],
  "metadata": {
    "kernelspec": {
      "display_name": "Python 3 (ipykernel)",
      "language": "python",
      "name": "python3"
    },
    "language_info": {
      "codemirror_mode": {
        "name": "ipython",
        "version": 3
      },
      "file_extension": ".py",
      "mimetype": "text/x-python",
      "name": "python",
      "nbconvert_exporter": "python",
      "pygments_lexer": "ipython3",
      "version": "3.9.13"
    },
    "colab": {
      "provenance": []
    }
  },
  "nbformat": 4,
  "nbformat_minor": 5
}