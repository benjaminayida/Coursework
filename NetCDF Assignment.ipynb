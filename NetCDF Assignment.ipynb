{
 "cells": [
  {
   "cell_type": "code",
   "execution_count": 1,
   "id": "5c85b6e4",
   "metadata": {},
   "outputs": [],
   "source": [
    "from datetime import datetime, timedelta\n",
    "from netCDF4 import Dataset\n",
    "import numpy as np"
   ]
  },
  {
   "cell_type": "code",
   "execution_count": 2,
   "id": "3006738c",
   "metadata": {},
   "outputs": [],
   "source": [
    "Data = Dataset('tos_O1_2001-2002.nc','r')"
   ]
  },
  {
   "cell_type": "markdown",
   "id": "54e231cb",
   "metadata": {},
   "source": [
    "Dimensions"
   ]
  },
  {
   "cell_type": "code",
   "execution_count": 18,
   "id": "ee81b93d",
   "metadata": {},
   "outputs": [
    {
     "name": "stdout",
     "output_type": "stream",
     "text": [
      "----------------------\n",
      "dimension[lon] = 180\n",
      "dimension[lat] = 170\n",
      "dimension[time] = 24\n",
      "dimension[bnds] = 2\n",
      "----------------------\n"
     ]
    }
   ],
   "source": [
    "Dims = Data.dimensions\n",
    "ndims=len(Dims)\n",
    "print('----------------------')\n",
    "for key in Dims:print(f'dimension[{key}] = {str(len(Dims[key]))}')\n",
    "print('----------------------')"
   ]
  },
  {
   "cell_type": "markdown",
   "id": "87d1e1d4",
   "metadata": {},
   "source": [
    "Variables"
   ]
  },
  {
   "cell_type": "code",
   "execution_count": 20,
   "id": "2fd23a60",
   "metadata": {},
   "outputs": [
    {
     "name": "stdout",
     "output_type": "stream",
     "text": [
      "Number of variables = 7\n",
      "\n",
      "---------------variable 'lon'------------------\n",
      "\n",
      "shape = (180,)\n",
      "dimension[lon]=180\n",
      "\n",
      "---------------variable 'lon_bnds'------------------\n",
      "\n",
      "shape = (180, 2)\n",
      "dimension[lon]=180\n",
      "dimension[bnds]=2\n",
      "\n",
      "---------------variable 'lat'------------------\n",
      "\n",
      "shape = (170,)\n",
      "dimension[lat]=170\n",
      "\n",
      "---------------variable 'lat_bnds'------------------\n",
      "\n",
      "shape = (170, 2)\n",
      "dimension[lat]=170\n",
      "dimension[bnds]=2\n",
      "\n",
      "---------------variable 'time'------------------\n",
      "\n",
      "shape = (24,)\n",
      "dimension[time]=24\n",
      "\n",
      "---------------variable 'time_bnds'------------------\n",
      "\n",
      "shape = (24, 2)\n",
      "dimension[time]=24\n",
      "dimension[bnds]=2\n",
      "\n",
      "---------------variable 'tos'------------------\n",
      "\n",
      "shape = (24, 170, 180)\n",
      "dimension[time]=24\n",
      "dimension[lat]=170\n",
      "dimension[lon]=180\n"
     ]
    }
   ],
   "source": [
    "Vars = Data.variables\n",
    "print(f'Number of variables = {len(Vars)}')\n",
    "\n",
    "for i in Vars:\n",
    "    print(f\"\\n---------------variable '{i}'------------------\\n\")\n",
    "    print(f'shape = {str(Vars[i].shape)}')\n",
    "    vdims = Vars[i].dimensions\n",
    "    for j in (vdims):\n",
    "        print(f'dimension[{j}]={(str(len(Dims[j])))}')"
   ]
  },
  {
   "cell_type": "markdown",
   "id": "edce262a",
   "metadata": {},
   "source": [
    "Global Attributes"
   ]
  },
  {
   "cell_type": "code",
   "execution_count": 28,
   "id": "77fe5993",
   "metadata": {},
   "outputs": [
    {
     "name": "stdout",
     "output_type": "stream",
     "text": [
      "----------------------\n",
      "title : IPSL  model output prepared for IPCC Fourth Assessment SRES A2 experiment\n",
      "----------------------\n",
      "\n",
      "institution : IPSL (Institut Pierre Simon Laplace, Paris, France)\n",
      "----------------------\n",
      "\n",
      "source : IPSL-CM4_v1 (2003) : atmosphere : LMDZ (IPSL-CM4_IPCC, 96x71x19) ; ocean ORCA2 (ipsl_cm4_v1_8, 2x2L31); sea ice LIM (ipsl_cm4_v\n",
      "----------------------\n",
      "\n",
      "contact : Sebastien Denvil, sebastien.denvil@ipsl.jussieu.fr\n",
      "----------------------\n",
      "\n",
      "project_id : IPCC Fourth Assessment\n",
      "----------------------\n",
      "\n",
      "table_id : Table O1 (13 November 2004)\n",
      "----------------------\n",
      "\n",
      "experiment_id : SRES A2 experiment\n",
      "----------------------\n",
      "\n",
      "realization : 1\n",
      "----------------------\n",
      "\n",
      "cmor_version : 0.96\n",
      "----------------------\n",
      "\n",
      "Conventions : CF-1.0\n",
      "----------------------\n",
      "\n",
      "history : YYYY/MM/JJ: data generated; YYYY/MM/JJ+1 data transformed  At 16:37:23 on 01/11/2005, CMOR rewrote data to comply with CF standards and IPCC Fourth Assessment requirements\n",
      "----------------------\n",
      "\n",
      "references : Dufresne et al, Journal of Climate, 2015, vol XX, p 136\n",
      "----------------------\n",
      "\n",
      "comment : Test drive\n",
      "----------------------\n",
      "\n"
     ]
    }
   ],
   "source": [
    "Attrs = Data.ncattrs()\n",
    "print('----------------------')\n",
    "for key in Attrs:\n",
    "    print(key,\":\",  str(getattr(Data,key)))\n",
    "    print('----------------------\\n')"
   ]
  },
  {
   "cell_type": "markdown",
   "id": "f25ffb4d",
   "metadata": {},
   "source": [
    "### Description \n",
    "The dataset has the title \"IPSL  model output prepared for IPCC Fourth Assessment SRES A2 experiment\". It has 7 variables and 13 global attributes. The dimensions are 24,170 and 180 for time, latitude, and longitude respectively."
   ]
  },
  {
   "cell_type": "markdown",
   "id": "1bfd68eb",
   "metadata": {},
   "source": [
    "Create and writing data, NetCDF"
   ]
  },
  {
   "cell_type": "code",
   "execution_count": 33,
   "id": "27916c3b",
   "metadata": {},
   "outputs": [],
   "source": [
    "# define the dimensions\n",
    "x_size, y_size = 100, 100\n",
    "\n",
    "# netCDF file\n",
    "ncfile = Dataset('CourseWork.nc', 'w', format='NETCDF4')\n",
    "\n",
    "# x and y dimensions\n",
    "x = np.linspace(-10, 10, x_size)\n",
    "y = np.linspace(-10, 10, y_size)\n",
    "\n",
    "x_dim = ncfile.createDimension('x', x_size)\n",
    "y_dim = ncfile.createDimension('y', y_size)\n",
    "\n",
    "# Attributes\n",
    "ncfile.title = \"Assignment\"\n",
    "ncfile.function = \"sin(x) x cos(y)\"\n",
    "ncfile.source = \"100 points between -10 to 100\"\n",
    "ncfile.student = \"Benjamin\"\n",
    "ncfile.insttute = \"The Cyprus Institute\"\n",
    "ncfile.Date = str(datetime.utcnow())\n",
    "\n",
    "# variables\n",
    "x_var = ncfile.createVariable('x_var', np.float32, ('x',))\n",
    "y_var = ncfile.createVariable('y_var', np.float32, ('y',))\n",
    "\n",
    "# units of variables\n",
    "x_var.units = 'm'\n",
    "y_var.units = 'm'\n",
    "\n",
    "\n",
    "x_var[:] = x\n",
    "y_var[:] = y\n",
    "\n",
    "# create the variable for the equation z = sin(x) * cos(y)\n",
    "z_var = ncfile.createVariable('data', np.float32, ('y', 'x'))\n",
    "\n",
    "z_var.units = 'm'\n",
    "\n",
    "xx, yy = np.meshgrid(x, y)\n",
    "data = np.sin(xx) * np.cos(yy)\n",
    "z_var[:] = data\n",
    "\n",
    "ncfile.close()"
   ]
  },
  {
   "cell_type": "code",
   "execution_count": null,
   "id": "698f0eb1",
   "metadata": {},
   "outputs": [],
   "source": []
  }
 ],
 "metadata": {
  "kernelspec": {
   "display_name": "Python 3 (ipykernel)",
   "language": "python",
   "name": "python3"
  },
  "language_info": {
   "codemirror_mode": {
    "name": "ipython",
    "version": 3
   },
   "file_extension": ".py",
   "mimetype": "text/x-python",
   "name": "python",
   "nbconvert_exporter": "python",
   "pygments_lexer": "ipython3",
   "version": "3.10.6"
  }
 },
 "nbformat": 4,
 "nbformat_minor": 5
}
