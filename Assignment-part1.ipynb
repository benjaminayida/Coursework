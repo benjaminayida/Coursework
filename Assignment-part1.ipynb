{
 "cells": [
  {
   "cell_type": "markdown",
   "metadata": {
    "id": "5l0uIwPuEQ9O"
   },
   "source": [
    "# Winter-break Assignment - Part 1\n",
    "\n",
    "## The NY Taxis' dataset\n",
    "\n",
    "### Description\n",
    "\n",
    "The assigment is divided in two parts,\n",
    "\n",
    "- First, complete the tasks listed in this notebook, by providing code anywhere required\n",
    "- Then, prepare a written report in a separate document, with a length between 2 to 4 pages and containing the following sections:\n",
    "    - Description of the dataset\n",
    "    - Statistical information\n",
    "    - Derived observations\n",
    "\n",
    "The report should be based on knowledge acquired below. If you include any additional information or plots, please provide code at the end of the document.\n",
    "The report should not contain any code, but only **important** information. You should make a selection of the content you want to include and try to make it *interesting*.\n",
    "You also have the freedom to follow a different structure if you like.\n",
    "\n",
    "The report should be delivered in PDF format together with the completed notebook.\n",
    "\n",
    "The score is divided in 30% notebook and 40% report (+30% Second assignment).\n",
    "\n",
    "Assignments cound 40 point of the final score.\n",
    "\n",
    "**Deadline:** 13th of January 2023\n"
   ]
  },
  {
   "cell_type": "code",
   "execution_count": 1,
   "metadata": {
    "id": "XV_ZePN_zIZF"
   },
   "outputs": [],
   "source": [
    "import pandas as pd\n",
    "import numpy as np\n",
    "import seaborn as sns\n",
    "from matplotlib import pyplot as plt\n",
    "data = sns.load_dataset(\"taxis\")"
   ]
  },
  {
   "cell_type": "markdown",
   "metadata": {
    "id": "-gRqfV82ZU6K"
   },
   "source": [
    "### Understanding the dataset\n",
    "\n",
    "#### Provide a description of each column:\n",
    "\n",
    "- `pickup`:\n",
    "- `dropoff`:\n",
    "- `passengers`:\n",
    "- `distance`:\n",
    "- `fare`:\n",
    "- `tip`:\n",
    "- `tolls`:\n",
    "- `total`:\n",
    "- `color`:\n",
    "- `payment`:\n",
    "- `pickup_zone`:\n",
    "- `dropoff_zone`:\n",
    "- `pickup_borough`:\n",
    "- `dropoff_borough`:"
   ]
  },
  {
   "cell_type": "code",
   "execution_count": 2,
   "metadata": {},
   "outputs": [
    {
     "data": {
      "text/html": [
       "<div>\n",
       "<style scoped>\n",
       "    .dataframe tbody tr th:only-of-type {\n",
       "        vertical-align: middle;\n",
       "    }\n",
       "\n",
       "    .dataframe tbody tr th {\n",
       "        vertical-align: top;\n",
       "    }\n",
       "\n",
       "    .dataframe thead th {\n",
       "        text-align: right;\n",
       "    }\n",
       "</style>\n",
       "<table border=\"1\" class=\"dataframe\">\n",
       "  <thead>\n",
       "    <tr style=\"text-align: right;\">\n",
       "      <th></th>\n",
       "      <th>pickup</th>\n",
       "      <th>dropoff</th>\n",
       "      <th>passengers</th>\n",
       "      <th>distance</th>\n",
       "      <th>fare</th>\n",
       "      <th>tip</th>\n",
       "      <th>tolls</th>\n",
       "      <th>total</th>\n",
       "      <th>color</th>\n",
       "      <th>payment</th>\n",
       "      <th>pickup_zone</th>\n",
       "      <th>dropoff_zone</th>\n",
       "      <th>pickup_borough</th>\n",
       "      <th>dropoff_borough</th>\n",
       "    </tr>\n",
       "  </thead>\n",
       "  <tbody>\n",
       "    <tr>\n",
       "      <th>0</th>\n",
       "      <td>2019-03-23 20:21:09</td>\n",
       "      <td>2019-03-23 20:27:24</td>\n",
       "      <td>1</td>\n",
       "      <td>1.60</td>\n",
       "      <td>7.0</td>\n",
       "      <td>2.15</td>\n",
       "      <td>0.0</td>\n",
       "      <td>12.95</td>\n",
       "      <td>yellow</td>\n",
       "      <td>credit card</td>\n",
       "      <td>Lenox Hill West</td>\n",
       "      <td>UN/Turtle Bay South</td>\n",
       "      <td>Manhattan</td>\n",
       "      <td>Manhattan</td>\n",
       "    </tr>\n",
       "    <tr>\n",
       "      <th>1</th>\n",
       "      <td>2019-03-04 16:11:55</td>\n",
       "      <td>2019-03-04 16:19:00</td>\n",
       "      <td>1</td>\n",
       "      <td>0.79</td>\n",
       "      <td>5.0</td>\n",
       "      <td>0.00</td>\n",
       "      <td>0.0</td>\n",
       "      <td>9.30</td>\n",
       "      <td>yellow</td>\n",
       "      <td>cash</td>\n",
       "      <td>Upper West Side South</td>\n",
       "      <td>Upper West Side South</td>\n",
       "      <td>Manhattan</td>\n",
       "      <td>Manhattan</td>\n",
       "    </tr>\n",
       "    <tr>\n",
       "      <th>2</th>\n",
       "      <td>2019-03-27 17:53:01</td>\n",
       "      <td>2019-03-27 18:00:25</td>\n",
       "      <td>1</td>\n",
       "      <td>1.37</td>\n",
       "      <td>7.5</td>\n",
       "      <td>2.36</td>\n",
       "      <td>0.0</td>\n",
       "      <td>14.16</td>\n",
       "      <td>yellow</td>\n",
       "      <td>credit card</td>\n",
       "      <td>Alphabet City</td>\n",
       "      <td>West Village</td>\n",
       "      <td>Manhattan</td>\n",
       "      <td>Manhattan</td>\n",
       "    </tr>\n",
       "    <tr>\n",
       "      <th>3</th>\n",
       "      <td>2019-03-10 01:23:59</td>\n",
       "      <td>2019-03-10 01:49:51</td>\n",
       "      <td>1</td>\n",
       "      <td>7.70</td>\n",
       "      <td>27.0</td>\n",
       "      <td>6.15</td>\n",
       "      <td>0.0</td>\n",
       "      <td>36.95</td>\n",
       "      <td>yellow</td>\n",
       "      <td>credit card</td>\n",
       "      <td>Hudson Sq</td>\n",
       "      <td>Yorkville West</td>\n",
       "      <td>Manhattan</td>\n",
       "      <td>Manhattan</td>\n",
       "    </tr>\n",
       "    <tr>\n",
       "      <th>4</th>\n",
       "      <td>2019-03-30 13:27:42</td>\n",
       "      <td>2019-03-30 13:37:14</td>\n",
       "      <td>3</td>\n",
       "      <td>2.16</td>\n",
       "      <td>9.0</td>\n",
       "      <td>1.10</td>\n",
       "      <td>0.0</td>\n",
       "      <td>13.40</td>\n",
       "      <td>yellow</td>\n",
       "      <td>credit card</td>\n",
       "      <td>Midtown East</td>\n",
       "      <td>Yorkville West</td>\n",
       "      <td>Manhattan</td>\n",
       "      <td>Manhattan</td>\n",
       "    </tr>\n",
       "  </tbody>\n",
       "</table>\n",
       "</div>"
      ],
      "text/plain": [
       "               pickup             dropoff  passengers  distance  fare   tip  \\\n",
       "0 2019-03-23 20:21:09 2019-03-23 20:27:24           1      1.60   7.0  2.15   \n",
       "1 2019-03-04 16:11:55 2019-03-04 16:19:00           1      0.79   5.0  0.00   \n",
       "2 2019-03-27 17:53:01 2019-03-27 18:00:25           1      1.37   7.5  2.36   \n",
       "3 2019-03-10 01:23:59 2019-03-10 01:49:51           1      7.70  27.0  6.15   \n",
       "4 2019-03-30 13:27:42 2019-03-30 13:37:14           3      2.16   9.0  1.10   \n",
       "\n",
       "   tolls  total   color      payment            pickup_zone  \\\n",
       "0    0.0  12.95  yellow  credit card        Lenox Hill West   \n",
       "1    0.0   9.30  yellow         cash  Upper West Side South   \n",
       "2    0.0  14.16  yellow  credit card          Alphabet City   \n",
       "3    0.0  36.95  yellow  credit card              Hudson Sq   \n",
       "4    0.0  13.40  yellow  credit card           Midtown East   \n",
       "\n",
       "            dropoff_zone pickup_borough dropoff_borough  \n",
       "0    UN/Turtle Bay South      Manhattan       Manhattan  \n",
       "1  Upper West Side South      Manhattan       Manhattan  \n",
       "2           West Village      Manhattan       Manhattan  \n",
       "3         Yorkville West      Manhattan       Manhattan  \n",
       "4         Yorkville West      Manhattan       Manhattan  "
      ]
     },
     "execution_count": 2,
     "metadata": {},
     "output_type": "execute_result"
    }
   ],
   "source": [
    "data.head()"
   ]
  },
  {
   "cell_type": "markdown",
   "metadata": {
    "id": "216k7OyVZU6L"
   },
   "source": [
    "#### For the numerical colums find the `min` and `max`"
   ]
  },
  {
   "cell_type": "code",
   "execution_count": 3,
   "metadata": {
    "id": "TyiWsyPpZU6L"
   },
   "outputs": [
    {
     "data": {
      "text/plain": [
       "passengers    0.0\n",
       "distance      0.0\n",
       "fare          1.0\n",
       "tip           0.0\n",
       "tolls         0.0\n",
       "total         1.3\n",
       "dtype: float64"
      ]
     },
     "execution_count": 3,
     "metadata": {},
     "output_type": "execute_result"
    }
   ],
   "source": [
    "data[['passengers', 'distance', 'fare', 'tip','tolls', 'total']].min()"
   ]
  },
  {
   "cell_type": "code",
   "execution_count": 297,
   "metadata": {},
   "outputs": [
    {
     "data": {
      "text/plain": [
       "passengers      6.00\n",
       "distance       36.70\n",
       "fare          150.00\n",
       "tip            33.20\n",
       "tolls          24.02\n",
       "total         174.82\n",
       "dtype: float64"
      ]
     },
     "execution_count": 297,
     "metadata": {},
     "output_type": "execute_result"
    }
   ],
   "source": [
    "data[['passengers', 'distance', 'fare', 'tip','tolls', 'total']].max() "
   ]
  },
  {
   "cell_type": "markdown",
   "metadata": {
    "id": "_-AaLT3gZU6L"
   },
   "source": [
    "#### Find the unique values for `passengers`, `color`, `payment`, `pickup_borough`, `dropoff_borough`"
   ]
  },
  {
   "cell_type": "code",
   "execution_count": 298,
   "metadata": {
    "id": "4_V8DziqZU6M"
   },
   "outputs": [
    {
     "name": "stdout",
     "output_type": "stream",
     "text": [
      "UNIQUE VALUES, COLORS & PLACES \n",
      "\n",
      " passengers = [1 3 0 6 5 2 4] \n",
      " Colors = ['yellow' 'green'] \n",
      " Payments = ['credit card' 'cash' nan] \n",
      " pickup_borough = ['Manhattan' 'Queens' nan 'Bronx' 'Brooklyn'] \n",
      " dropoff_borough = ['Manhattan' 'Queens' 'Brooklyn' nan 'Bronx' 'Staten Island']\n"
     ]
    }
   ],
   "source": [
    "print('UNIQUE VALUES, COLORS & PLACES','\\n\\n','passengers =',data['passengers'].unique(), '\\n','Colors =', \\\n",
    "      data['color'].unique(),'\\n', 'Payments =', data['payment'].unique(), '\\n','pickup_borough =', \n",
    "      data['pickup_borough'].unique(),'\\n', 'dropoff_borough =', data['dropoff_borough'].unique())\n"
   ]
  },
  {
   "cell_type": "markdown",
   "metadata": {
    "id": "uiCuuKB3ZU6M"
   },
   "source": [
    "#### Find the first and last date of the datasets entries"
   ]
  },
  {
   "cell_type": "code",
   "execution_count": 299,
   "metadata": {
    "id": "sYJXGjtsZU6N"
   },
   "outputs": [
    {
     "name": "stdout",
     "output_type": "stream",
     "text": [
      "First date = 2019-02-28 23:29:03 \n",
      " Last date = 2019-03-31 23:43:45\n"
     ]
    }
   ],
   "source": [
    "data['pickup'] = pd.to_datetime(data['pickup'])\n",
    "\n",
    "print('First date =', data['pickup'].min(), \"\\n\", 'Last date =', data['pickup'].max())"
   ]
  },
  {
   "cell_type": "markdown",
   "metadata": {
    "id": "esLidH0EZU6O"
   },
   "source": [
    "#### Create a new column named `cost` taking the difference between `total` and `tip`"
   ]
  },
  {
   "cell_type": "code",
   "execution_count": 300,
   "metadata": {
    "id": "sdpGggooZU6O"
   },
   "outputs": [
    {
     "data": {
      "text/plain": [
       "0       10.8\n",
       "1        9.3\n",
       "2       11.8\n",
       "3       30.8\n",
       "4       12.3\n",
       "        ... \n",
       "6428     5.3\n",
       "6429    58.8\n",
       "6430    17.3\n",
       "6431     6.8\n",
       "6432    16.8\n",
       "Name: cost, Length: 6433, dtype: float64"
      ]
     },
     "execution_count": 300,
     "metadata": {},
     "output_type": "execute_result"
    }
   ],
   "source": [
    "data['cost'] = data['total'] - data['tip']\n",
    "data['cost']"
   ]
  },
  {
   "cell_type": "markdown",
   "metadata": {
    "id": "O-XkYRUFZU6O"
   },
   "source": [
    "#### Create a new column named `duration` taking the difference between `dropoff` and `pickup`"
   ]
  },
  {
   "cell_type": "code",
   "execution_count": 301,
   "metadata": {
    "id": "Dv883gM9ZU6P"
   },
   "outputs": [
    {
     "data": {
      "text/plain": [
       "0      0 days 00:06:15\n",
       "1      0 days 00:07:05\n",
       "2      0 days 00:07:24\n",
       "3      0 days 00:25:52\n",
       "4      0 days 00:09:32\n",
       "             ...      \n",
       "6428   0 days 00:03:34\n",
       "6429   0 days 00:56:23\n",
       "6430   0 days 00:19:07\n",
       "6431   0 days 00:05:04\n",
       "6432   0 days 00:16:40\n",
       "Name: duration, Length: 6433, dtype: timedelta64[ns]"
      ]
     },
     "execution_count": 301,
     "metadata": {},
     "output_type": "execute_result"
    }
   ],
   "source": [
    "data['duration'] = data['dropoff'] - data['pickup']\n",
    "data['duration']"
   ]
  },
  {
   "cell_type": "markdown",
   "metadata": {
    "id": "ec-O312-ZU6P"
   },
   "source": [
    "#### Find rows with incomplete information or wrong entries, e.g. `'distance'==0`, `nan` values, etc. Remove them from the dataset"
   ]
  },
  {
   "cell_type": "code",
   "execution_count": 302,
   "metadata": {
    "id": "xA9gyemaZU6P"
   },
   "outputs": [
    {
     "data": {
      "text/plain": [
       "pickup             0\n",
       "dropoff            0\n",
       "passengers         0\n",
       "distance           0\n",
       "fare               0\n",
       "tip                0\n",
       "tolls              0\n",
       "total              0\n",
       "color              0\n",
       "payment            0\n",
       "pickup_zone        0\n",
       "dropoff_zone       0\n",
       "pickup_borough     0\n",
       "dropoff_borough    0\n",
       "cost               0\n",
       "duration           0\n",
       "dtype: int64"
      ]
     },
     "execution_count": 302,
     "metadata": {},
     "output_type": "execute_result"
    }
   ],
   "source": [
    "data.loc[data['distance'] == 0,'distance'] = np.nan\n",
    "data.loc[data['passengers'] == 0,'passengers'] = np.nan\n",
    "data.dropna(inplace=True)\n",
    "data.isna().sum()"
   ]
  },
  {
   "cell_type": "markdown",
   "metadata": {
    "id": "d5CD3cNiZU6P"
   },
   "source": [
    "### Statistical analysis"
   ]
  },
  {
   "cell_type": "markdown",
   "metadata": {
    "id": "D2tGgHQGZU6Q"
   },
   "source": [
    "#### Find the frequency of the unique values for `passengers`, `color`, `payment`, `pickup_borough`, `dropoff_borough`"
   ]
  },
  {
   "cell_type": "code",
   "execution_count": 303,
   "metadata": {},
   "outputs": [],
   "source": [
    "def freq(x):\n",
    "    a = data.groupby(x)[x].transform('count')\n",
    "    b = data[x].unique()\n",
    "    c=a.unique()\n",
    "    E=[]\n",
    "    C=[]\n",
    "    for i in b:\n",
    "        C.append(str(i))\n",
    "    D={C[i]:c[i] for i in range(len(C))}\n",
    "    return D"
   ]
  },
  {
   "cell_type": "code",
   "execution_count": 304,
   "metadata": {},
   "outputs": [
    {
     "data": {
      "text/plain": [
       "{'yellow': 5269, 'green': 951}"
      ]
     },
     "execution_count": 304,
     "metadata": {},
     "output_type": "execute_result"
    }
   ],
   "source": [
    "# Put passengers, color, payment, pickup_borough, dropoff_borough in the\n",
    "# function \"freq\"\n",
    "\n",
    "freq('color')"
   ]
  },
  {
   "cell_type": "markdown",
   "metadata": {
    "id": "0HfbRrUBZU6Q"
   },
   "source": [
    "#### What is the percentage of people giving a `tip`"
   ]
  },
  {
   "cell_type": "code",
   "execution_count": 305,
   "metadata": {
    "id": "g3eC3nTCZU6R"
   },
   "outputs": [
    {
     "name": "stdout",
     "output_type": "stream",
     "text": [
      "64.58 %\n"
     ]
    }
   ],
   "source": [
    "tip = data[data['tip']>0]\n",
    "tip_percentage = tip['tip'].count()/data['tip'].count()*100\n",
    "print(tip_percentage.round(2),'%')"
   ]
  },
  {
   "cell_type": "markdown",
   "metadata": {
    "id": "EMllaBrJZU6R"
   },
   "source": [
    "#### Find the proportion between the `cost` and the `tip`"
   ]
  },
  {
   "cell_type": "code",
   "execution_count": 306,
   "metadata": {},
   "outputs": [
    {
     "data": {
      "text/plain": [
       "0        5.023256\n",
       "1             inf\n",
       "2        5.000000\n",
       "3        5.008130\n",
       "4       11.181818\n",
       "          ...    \n",
       "6428     5.000000\n",
       "6429          inf\n",
       "6430          inf\n",
       "6431          inf\n",
       "6432     5.000000\n",
       "Length: 6220, dtype: float64"
      ]
     },
     "execution_count": 306,
     "metadata": {},
     "output_type": "execute_result"
    }
   ],
   "source": [
    "data['cost']/data['tip']"
   ]
  },
  {
   "cell_type": "markdown",
   "metadata": {
    "id": "S9VEWXvoZU6R"
   },
   "source": [
    "#### Find the proportion between `distance` and `duration`"
   ]
  },
  {
   "cell_type": "code",
   "execution_count": 307,
   "metadata": {
    "id": "erifOff9ZU6S"
   },
   "outputs": [
    {
     "data": {
      "text/plain": [
       "0       15.360000\n",
       "1        6.691765\n",
       "2       11.108108\n",
       "3       17.860825\n",
       "4       13.594406\n",
       "          ...    \n",
       "6428    12.616822\n",
       "6429    19.942063\n",
       "6430    12.993897\n",
       "6431    13.263158\n",
       "6432    13.860000\n",
       "Length: 6220, dtype: float64"
      ]
     },
     "execution_count": 307,
     "metadata": {},
     "output_type": "execute_result"
    }
   ],
   "source": [
    "data['Duration_to_hours'] = data['duration'] / pd.Timedelta(hours=1)\n",
    "data['distance']/data['Duration_to_hours']\n"
   ]
  },
  {
   "cell_type": "markdown",
   "metadata": {
    "id": "Eq9WLSBMZU6S"
   },
   "source": [
    "#### Find the proportion between the `cost` and the `fare`"
   ]
  },
  {
   "cell_type": "code",
   "execution_count": 308,
   "metadata": {
    "id": "ktsvKEqWZU6S"
   },
   "outputs": [
    {
     "data": {
      "text/plain": [
       "0       1.542857\n",
       "1       1.860000\n",
       "2       1.573333\n",
       "3       1.140741\n",
       "4       1.366667\n",
       "          ...   \n",
       "6428    1.177778\n",
       "6429    1.013793\n",
       "6430    1.081250\n",
       "6431    1.133333\n",
       "6432    1.120000\n",
       "Length: 6220, dtype: float64"
      ]
     },
     "execution_count": 308,
     "metadata": {},
     "output_type": "execute_result"
    }
   ],
   "source": [
    "data['cost']/data['fare']"
   ]
  },
  {
   "cell_type": "markdown",
   "metadata": {
    "id": "J_WgNUDzZU6S"
   },
   "source": [
    "#### Find the proportion between `fare` and `total`"
   ]
  },
  {
   "cell_type": "code",
   "execution_count": 309,
   "metadata": {
    "id": "U_UAtYRPZU6S"
   },
   "outputs": [
    {
     "data": {
      "text/plain": [
       "0       0.540541\n",
       "1       0.537634\n",
       "2       0.529661\n",
       "3       0.730717\n",
       "4       0.671642\n",
       "          ...   \n",
       "6428    0.707547\n",
       "6429    0.986395\n",
       "6430    0.924855\n",
       "6431    0.882353\n",
       "6432    0.744048\n",
       "Length: 6220, dtype: float64"
      ]
     },
     "execution_count": 309,
     "metadata": {},
     "output_type": "execute_result"
    }
   ],
   "source": [
    "data['fare']/data['total']"
   ]
  },
  {
   "cell_type": "markdown",
   "metadata": {
    "id": "sd6DDkHfZU6S"
   },
   "source": [
    "### Visualization"
   ]
  },
  {
   "cell_type": "markdown",
   "metadata": {
    "id": "5sVrBAa0ZU6S"
   },
   "source": [
    "#### Use the function `sns.pairplot` to visualize cross correlation"
   ]
  },
  {
   "cell_type": "code",
   "execution_count": null,
   "metadata": {
    "id": "qAZe_w8HZU6T"
   },
   "outputs": [
    {
     "data": {
      "text/plain": [
       "<seaborn.axisgrid.PairGrid at 0x7f006b5c6410>"
      ]
     },
     "execution_count": 310,
     "metadata": {},
     "output_type": "execute_result"
    }
   ],
   "source": [
    "sns.set(font_scale=1)\n",
    "data1 = data[['tip','fare','distance','cost','total','duration']]\n",
    "sns.pairplot(data1)"
   ]
  },
  {
   "cell_type": "markdown",
   "metadata": {
    "id": "NPob4cDQPy6_"
   },
   "source": [
    "#### Where is there correlation?\n",
    "\n",
    "From the plot above, we could see there are several linear correlation between among the elements.\n",
    "\n",
    "There is a correlation between:\n",
    "\n",
    "(1) cost and total\n",
    "(2) fare and total\n",
    "(3) dstance and total\n",
    "(4) cost and fare\n",
    "(5) fare and distance\n",
    "(6) distance and cost"
   ]
  },
  {
   "cell_type": "markdown",
   "metadata": {
    "id": "xzEOAFEHST6g"
   },
   "source": [
    "#### Display the normalized distribution (histogram, probability) of tips for different borough"
   ]
  },
  {
   "cell_type": "code",
   "execution_count": null,
   "metadata": {},
   "outputs": [],
   "source": [
    "tip = []\n",
    "Borough = ['Manhattan','Queens','Bronx','Brooklyn']\n",
    "for i in Borough:\n",
    "        a=data.loc[data['pickup_borough'] == i]\n",
    "        b = a[a['tip']> 0]\n",
    "        x = b['tip']\n",
    "        tip.append(x)\n",
    "\n",
    "manhattan,Queens, Bronx, Brook = tip[0],tip[1],tip[2],tip[3]\n",
    "sns.displot(manhattan, bins=30).set(title='MANHATTAN')\n",
    "sns.displot(Queens, bins=30).set(title='QUEENS')\n",
    "sns.displot(Bronx, bins=10).set(title='BRONX')\n",
    "sns.displot(Brook, bins=30).set(title='BROOKLYN')"
   ]
  },
  {
   "cell_type": "markdown",
   "metadata": {
    "id": "XDlA-rcsQOiT"
   },
   "source": [
    "### Additional code\n",
    "\n",
    "Provide here after code for any additional statistical information / plots you include in the report"
   ]
  },
  {
   "cell_type": "code",
   "execution_count": null,
   "metadata": {},
   "outputs": [],
   "source": [
    "data = data[data['tip'] < 20]\n",
    "data = data[data['distance']< 35]\n",
    "data = data[data['fare']< 150]\n",
    "data = data[data['duration'] > '0 days 00:05:04']"
   ]
  },
  {
   "cell_type": "code",
   "execution_count": null,
   "metadata": {},
   "outputs": [],
   "source": [
    "data.describe()\n",
    "data['passengers'].sum()"
   ]
  },
  {
   "cell_type": "code",
   "execution_count": null,
   "metadata": {},
   "outputs": [],
   "source": [
    "data['pickup_zone'].describe(),data['dropoff_zone'].describe()"
   ]
  },
  {
   "cell_type": "code",
   "execution_count": null,
   "metadata": {},
   "outputs": [],
   "source": [
    "def autopct_generator(limit):\n",
    "\n",
    "    def inner_autopct(pct):\n",
    "\n",
    "        return ('{p:.1f}%'.format(p=pct)) if pct > limit else ''\n",
    "\n",
    "    return inner_autopct"
   ]
  },
  {
   "cell_type": "code",
   "execution_count": null,
   "metadata": {},
   "outputs": [],
   "source": [
    "explode = (0.0,0.1)\n",
    "pay_pie = data['payment'].value_counts().plot.pie(title=\"PAYMENT\", legend=True, \\\n",
    "                   shadow=True,explode = explode,autopct=autopct_generator(2.5),startangle=0,textprops = dict(color =\"w\"))\n",
    "\n",
    "plt.legend(loc =\"right\",\n",
    "          bbox_to_anchor =(.3, .30, 0.7, 1),\n",
    "          facecolor='w',edgecolor='k')\n",
    "plt.savefig('payment')"
   ]
  },
  {
   "cell_type": "code",
   "execution_count": null,
   "metadata": {},
   "outputs": [],
   "source": [
    "explode = (0.2, 0.1, 0.1, 0.1, 0.1)\n",
    "droppff_b = data['dropoff_borough'].value_counts().plot.pie(title=\"DROPOFF BOROUGH\", legend=True, \\\n",
    "                   shadow=True,explode = explode,autopct=autopct_generator(2.5),startangle=0,textprops = dict(color =\"w\"))\n",
    "\n",
    "plt.legend(loc =\"right\",\n",
    "          bbox_to_anchor =(.3, .30, 0.7, 1),\n",
    "          facecolor='w',edgecolor='k')\n",
    "plt.savefig('dropoff')"
   ]
  },
  {
   "cell_type": "code",
   "execution_count": null,
   "metadata": {},
   "outputs": [],
   "source": [
    "explode = (0.2, 0.0, 0.1, 0.0)\n",
    "pickup_b = data['pickup_borough'].value_counts().plot.pie(title=\"PICKUP BOROUGH\", legend=True, \\\n",
    "                   shadow=True,explode = explode,autopct=autopct_generator(2),startangle=0,textprops = dict(color =\"w\"))\n",
    "\n",
    "plt.legend(loc =\"right\",\n",
    "          bbox_to_anchor =(.3, .35, 0.5, 1),\n",
    "          facecolor='w',edgecolor='k')\n",
    "plt.savefig('pickup')"
   ]
  },
  {
   "cell_type": "code",
   "execution_count": null,
   "metadata": {},
   "outputs": [],
   "source": [
    "Borough = ['Manhattan','Queens','Bronx','Brooklyn','Staten Island']\n",
    "for i in Borough:\n",
    "    Mdata = data.loc[data['pickup_borough']== i]\n",
    "    for j in Borough:\n",
    "        D1= Mdata[Mdata['dropoff_borough'] == j]['fare'].max()\n",
    "        print(i,j,D1)"
   ]
  },
  {
   "cell_type": "code",
   "execution_count": null,
   "metadata": {},
   "outputs": [],
   "source": [
    "Borough = ['Manhattan','Queens','Bronx','Brooklyn','Staten Island']\n",
    "for i in Borough:\n",
    "    Mdata = data.loc[data['pickup_borough']== i]\n",
    "    for j in Borough:\n",
    "        D1= Mdata[Mdata['dropoff_borough'] == j]['duration'].max()\n",
    "        print(i,j,D1)"
   ]
  },
  {
   "cell_type": "code",
   "execution_count": null,
   "metadata": {},
   "outputs": [],
   "source": [
    "def freq(x):\n",
    "    a = data.groupby(x)[x].transform('count')\n",
    "    b = data[x].unique()\n",
    "    c=a.unique()\n",
    "    E=[]\n",
    "    C=[]\n",
    "    for i in b:\n",
    "        C.append(str(i))\n",
    "    D={C[i]:c[i] for i in range(len(C))}\n",
    "    return D\n",
    "\n",
    "def group(column,group):\n",
    "    return data.loc[data[column] == group]\n",
    "\n",
    "# Group by a column, access the elements of the column and \n",
    "def pass_per(groupby,element,grp_to_sum):\n",
    "    a = group(groupby,element)\n",
    "    percent = (a[grp_to_sum].sum()/data[grp_to_sum].sum())*100\n",
    "    return print(element, '= ', percent.round(2),'%','\\n')\n",
    "\n",
    "def fare(groupby,element,grp_to_sum):\n",
    "    a = group(groupby,element)\n",
    "    ma_x,mi_n,mean = a[grp_to_sum].max(), a[grp_to_sum].min(), a[grp_to_sum].mean().round(2)\n",
    "    return print(element,',  the highest =',ma_x, ' | lowest = ',mi_n, '|','and Average =',mean,'\\n')\n",
    "\n",
    "def duration(groupby,element,grp_to_sum):\n",
    "    a = group(groupby,element)\n",
    "    ma_x,mi_n,mean = a[grp_to_sum].max(), a[grp_to_sum].min(), a[grp_to_sum].mean()\n",
    "    return print( element, 'is ', mi_n,'|  ', ma_x, '|  ',mean,'time to arrive','\\n')\n",
    "    \n",
    "    #return print('When travelling to', element, 'it can take at least ',mi_n,', atmost',ma_x,\\\n",
    "     #            'and averagely, ',mean,'time to arrive')"
   ]
  },
  {
   "cell_type": "code",
   "execution_count": 1,
   "metadata": {},
   "outputs": [
    {
     "name": "stdout",
     "output_type": "stream",
     "text": [
      "PERCNTAGE OF PEOPLE TRAVELLING TO VARIOUS BOROUGH \n",
      "\n"
     ]
    },
    {
     "ename": "NameError",
     "evalue": "name 'freq' is not defined",
     "output_type": "error",
     "traceback": [
      "\u001b[0;31m---------------------------------------------------------------------------\u001b[0m",
      "\u001b[0;31mNameError\u001b[0m                                 Traceback (most recent call last)",
      "\u001b[0;32m/tmp/ipykernel_54239/3484860675.py\u001b[0m in \u001b[0;36m<module>\u001b[0;34m\u001b[0m\n\u001b[1;32m      1\u001b[0m \u001b[0;31m# Percentage of Passengers per various Borough\u001b[0m\u001b[0;34m\u001b[0m\u001b[0;34m\u001b[0m\u001b[0m\n\u001b[1;32m      2\u001b[0m \u001b[0mprint\u001b[0m\u001b[0;34m(\u001b[0m\u001b[0;34m'PERCNTAGE OF PEOPLE TRAVELLING TO VARIOUS BOROUGH'\u001b[0m\u001b[0;34m,\u001b[0m\u001b[0;34m'\\n'\u001b[0m\u001b[0;34m)\u001b[0m\u001b[0;34m\u001b[0m\u001b[0;34m\u001b[0m\u001b[0m\n\u001b[0;32m----> 3\u001b[0;31m \u001b[0mfreq\u001b[0m\u001b[0;34m(\u001b[0m\u001b[0;34m'dropoff_borough'\u001b[0m\u001b[0;34m)\u001b[0m\u001b[0;34m\u001b[0m\u001b[0;34m\u001b[0m\u001b[0m\n\u001b[0m\u001b[1;32m      4\u001b[0m \u001b[0;32mfor\u001b[0m \u001b[0mkey\u001b[0m \u001b[0;32min\u001b[0m \u001b[0mfreq\u001b[0m\u001b[0;34m(\u001b[0m\u001b[0;34m'dropoff_borough'\u001b[0m\u001b[0;34m)\u001b[0m\u001b[0;34m:\u001b[0m\u001b[0;34m\u001b[0m\u001b[0;34m\u001b[0m\u001b[0m\n\u001b[1;32m      5\u001b[0m     \u001b[0mpass_per\u001b[0m\u001b[0;34m(\u001b[0m\u001b[0;34m'dropoff_borough'\u001b[0m\u001b[0;34m,\u001b[0m\u001b[0mkey\u001b[0m\u001b[0;34m,\u001b[0m\u001b[0;34m'passengers'\u001b[0m\u001b[0;34m)\u001b[0m\u001b[0;34m\u001b[0m\u001b[0;34m\u001b[0m\u001b[0m\n",
      "\u001b[0;31mNameError\u001b[0m: name 'freq' is not defined"
     ]
    }
   ],
   "source": [
    "# Percentage of Passengers per various Borough\n",
    "print('PERCNTAGE OF PEOPLE TRAVELLING TO VARIOUS BOROUGH','\\n')\n",
    "freq('dropoff_borough')\n",
    "for key in freq('dropoff_borough'):\n",
    "    pass_per('dropoff_borough',key,'passengers')"
   ]
  },
  {
   "cell_type": "code",
   "execution_count": null,
   "metadata": {},
   "outputs": [],
   "source": [
    "# Maximum, Minimum and Average fare to travel to each borough\n",
    "print('HIGHEST, LOWEST, AVERAGE FARE FOR TRAVELLING','\\n')\n",
    "for key in freq('dropoff_borough'):\n",
    "    fare('dropoff_borough',key,'fare')"
   ]
  },
  {
   "cell_type": "code",
   "execution_count": null,
   "metadata": {},
   "outputs": [],
   "source": [
    "# Maximum, Minimum and Average fare to travel to each borough\n",
    "print('MAXIMUM, MINIMUM, AVERAGE DURATION FOR TRAVELLING','\\n')\n",
    "for key in freq('dropoff_borough'):\n",
    "    duration('dropoff_borough',key,'duration')"
   ]
  },
  {
   "cell_type": "code",
   "execution_count": null,
   "metadata": {},
   "outputs": [],
   "source": [
    "sns.set(font_scale=1)\n",
    "data1 = data[['fare','distance','cost','total','duration']]\n",
    "sns.pairplot(data1)"
   ]
  },
  {
   "cell_type": "code",
   "execution_count": null,
   "metadata": {},
   "outputs": [],
   "source": [
    "data['tip'].plot(kind='hist', figsize =(5,5))\n",
    "data['tip'].describe()"
   ]
  }
 ],
 "metadata": {
  "colab": {
   "provenance": []
  },
  "kernelspec": {
   "display_name": "Python 3 (ipykernel)",
   "language": "python",
   "name": "python3"
  },
  "language_info": {
   "codemirror_mode": {
    "name": "ipython",
    "version": 3
   },
   "file_extension": ".py",
   "mimetype": "text/x-python",
   "name": "python",
   "nbconvert_exporter": "python",
   "pygments_lexer": "ipython3",
   "version": "3.10.6"
  }
 },
 "nbformat": 4,
 "nbformat_minor": 1
}
